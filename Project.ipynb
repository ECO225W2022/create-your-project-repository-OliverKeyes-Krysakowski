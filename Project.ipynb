{
 "cells": [
  {
   "cell_type": "code",
   "execution_count": 1,
   "id": "cc871a46",
   "metadata": {},
   "outputs": [],
   "source": [
    "import pandas as pd\n",
    "\n",
    "schoolexplorer = pd.DataFrame(pd.read_csv(\"/Users/oliverkeyes/Dropbox/UofT Year 2/ECO225/Project/Data/2016 School Explorer.csv\"))\n",
    "regandtesters = pd.DataFrame(pd.read_csv(\"/Users/oliverkeyes/Dropbox/UofT Year 2/ECO225/Project/Data/D5 SHSAT Registrations and Testers.csv\"))"
   ]
  }
 ],
 "metadata": {
  "kernelspec": {
   "display_name": "Python 3 (ipykernel)",
   "language": "python",
   "name": "python3"
  },
  "language_info": {
   "codemirror_mode": {
    "name": "ipython",
    "version": 3
   },
   "file_extension": ".py",
   "mimetype": "text/x-python",
   "name": "python",
   "nbconvert_exporter": "python",
   "pygments_lexer": "ipython3",
   "version": "3.10.2"
  }
 },
 "nbformat": 4,
 "nbformat_minor": 5
}
