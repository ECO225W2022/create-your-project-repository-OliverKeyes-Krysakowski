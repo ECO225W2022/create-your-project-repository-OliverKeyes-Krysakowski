{
 "cells": [
  {
   "cell_type": "code",
   "execution_count": 14,
   "id": "1886a1d7",
   "metadata": {},
   "outputs": [],
   "source": [
    "import pandas as pd\n",
    "\n",
    "schoolexplorer = pd.DataFrame(pd.read_csv(\"/Users/oliverkeyes/Dropbox/UofT Year 2/ECO225/ECO225Project/Data/2016 School Explorer.csv\"))\n",
    "regandtesters = pd.DataFrame(pd.read_csv(\"/Users/oliverkeyes/Dropbox/UofT Year 2/ECO225/ECO225Project/Data/D5 SHSAT Registrations and Testers.csv\"))"
   ]
  },
  {
   "cell_type": "code",
   "execution_count": null,
   "id": "74b67293",
   "metadata": {},
   "outputs": [],
   "source": []
  }
 ],
 "metadata": {
  "kernelspec": {
   "display_name": "Python 3 (ipykernel)",
   "language": "python",
   "name": "python3"
  },
  "language_info": {
   "codemirror_mode": {
    "name": "ipython",
    "version": 3
   },
   "file_extension": ".py",
   "mimetype": "text/x-python",
   "name": "python",
   "nbconvert_exporter": "python",
   "pygments_lexer": "ipython3",
   "version": "3.10.2"
  }
 },
 "nbformat": 4,
 "nbformat_minor": 5
}
